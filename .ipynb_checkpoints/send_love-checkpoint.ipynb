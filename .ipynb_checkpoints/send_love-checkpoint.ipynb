{
 "cells": [
  {
   "cell_type": "code",
   "execution_count": 16,
   "id": "7e0973ff",
   "metadata": {},
   "outputs": [],
   "source": [
    "import pyautogui as po\n",
    "from time import sleep\n",
    "import random\n",
    "import pyperclip as co"
   ]
  },
  {
   "cell_type": "code",
   "execution_count": 19,
   "id": "c49a8f72",
   "metadata": {},
   "outputs": [
    {
     "name": "stdout",
     "output_type": "stream",
     "text": [
      "['2110', '2115', '2120', '2125', '2130', '2135', '2140', '2145', '2150', '2155', '2210', '2215', '2220', '2225', '2230', '2235', '2240', '2245', '2250', '2255', '2310', '2315', '2320', '2325', '2330', '2335', '2340', '2345', '2350', '2355']\n",
      "30\n"
     ]
    }
   ],
   "source": [
    "time_table = []\n",
    "for hour in range(21, 24):\n",
    "    for min in range(10, 60, 5):\n",
    "        time_table.append(f\"{hour}{min}\")\n",
    "print(time_table)\n",
    "time_table_length = len(time_table)\n",
    "print(time_table_length)"
   ]
  },
  {
   "cell_type": "code",
   "execution_count": 20,
   "id": "da6b7ab6",
   "metadata": {},
   "outputs": [],
   "source": [
    "file = open(\"love.txt\", \"r\", encoding=\"utf8\")\n",
    "lines = file.readlines()\n",
    "file.close()\n",
    "emojies = \"❤️,💕,😍,😘,🥰,😻,💞,💗,💖,💓,💝,💑,👩‍❤️‍👨,👨‍❤️‍👨,👩‍❤️‍👩,💌,🌹,🌺,🌼\".split(\",\")"
   ]
  },
  {
   "cell_type": "code",
   "execution_count": 24,
   "id": "63928541",
   "metadata": {},
   "outputs": [
    {
     "name": "stdout",
     "output_type": "stream",
     "text": [
      "تو عشقم و برگ های زندگی من هستی. 2110\n",
      "با تو هر لحظه زندگیم پر از شیرینی است. 2115\n",
      "تو نوری در زندگیم هستی که همیشه من را روشن نگه می دارد. 2120\n",
      "عشق تو مثل یک باغ زیباست که در آن همیشه بهار است. 2125\n"
     ]
    },
    {
     "ename": "KeyboardInterrupt",
     "evalue": "",
     "output_type": "error",
     "traceback": [
      "\u001b[1;31m---------------------------------------------------------------------------\u001b[0m",
      "\u001b[1;31mKeyboardInterrupt\u001b[0m                         Traceback (most recent call last)",
      "Cell \u001b[1;32mIn[24], line 13\u001b[0m\n\u001b[0;32m     11\u001b[0m \u001b[38;5;28;01mfor\u001b[39;00m i \u001b[38;5;129;01min\u001b[39;00m \u001b[38;5;28mrange\u001b[39m(\u001b[38;5;241m5\u001b[39m):\n\u001b[0;32m     12\u001b[0m     po\u001b[38;5;241m.\u001b[39mpress(\u001b[38;5;124m\"\u001b[39m\u001b[38;5;124mbackspace\u001b[39m\u001b[38;5;124m\"\u001b[39m)\n\u001b[1;32m---> 13\u001b[0m     \u001b[43msleep\u001b[49m\u001b[43m(\u001b[49m\u001b[38;5;241;43m0.5\u001b[39;49m\u001b[43m)\u001b[49m\n\u001b[0;32m     14\u001b[0m \u001b[38;5;28;01mfor\u001b[39;00m letter \u001b[38;5;129;01min\u001b[39;00m time_table[i]:\n\u001b[0;32m     15\u001b[0m     po\u001b[38;5;241m.\u001b[39mpress(letter)\n",
      "\u001b[1;31mKeyboardInterrupt\u001b[0m: "
     ]
    }
   ],
   "source": [
    "po.moveTo(582, 1134)\n",
    "po.click()\n",
    "sleep(1)\n",
    "for i in range(len(time_table)):\n",
    "    print(lines[i].strip(), time_table[i])\n",
    "    sleep(0.5)\n",
    "    co.copy(lines[i].strip() + \" \" + random.choice(emojies))\n",
    "    po.hotkey('ctrl', 'v')\n",
    "    sleep(1)\n",
    "    po.press(\"enter\")\n",
    "    for i in range(5):\n",
    "        po.press(\"backspace\")\n",
    "        sleep(0.5)\n",
    "    for letter in time_table[i]:\n",
    "        po.press(letter)\n",
    "        print(letter, end=\"\")\n",
    "    print()\n",
    "        sleep(0.1)\n",
    "    po.press(\"enter\")\n",
    "    sleep(1)"
   ]
  },
  {
   "cell_type": "code",
   "execution_count": null,
   "id": "89d85299",
   "metadata": {},
   "outputs": [],
   "source": []
  }
 ],
 "metadata": {
  "kernelspec": {
   "display_name": "Python 3 (ipykernel)",
   "language": "python",
   "name": "python3"
  },
  "language_info": {
   "codemirror_mode": {
    "name": "ipython",
    "version": 3
   },
   "file_extension": ".py",
   "mimetype": "text/x-python",
   "name": "python",
   "nbconvert_exporter": "python",
   "pygments_lexer": "ipython3",
   "version": "3.10.7"
  }
 },
 "nbformat": 4,
 "nbformat_minor": 5
}
