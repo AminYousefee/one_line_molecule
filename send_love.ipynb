{
 "cells": [
  {
   "cell_type": "code",
   "execution_count": 8,
   "id": "7e0973ff",
   "metadata": {},
   "outputs": [],
   "source": [
    "import pyautogui as po\n",
    "from time import sleep\n",
    "import random\n",
    "import pyperclip as co"
   ]
  },
  {
   "cell_type": "code",
   "execution_count": 9,
   "id": "c49a8f72",
   "metadata": {},
   "outputs": [
    {
     "name": "stdout",
     "output_type": "stream",
     "text": [
      "['2110', '2115', '2120', '2125', '2130', '2135', '2140', '2145', '2150', '2155', '2210', '2215', '2220', '2225', '2230', '2235', '2240', '2245', '2250', '2255', '2310', '2315', '2320', '2325', '2330', '2335', '2340', '2345', '2350', '2355']\n",
      "30\n"
     ]
    }
   ],
   "source": [
    "time_table = []\n",
    "for hour in range(21, 24):\n",
    "    for min in range(10, 60, 5):\n",
    "        time_table.append(f\"{hour}{min}\")\n",
    "print(time_table)\n",
    "time_table_length = len(time_table)\n",
    "print(time_table_length)"
   ]
  },
  {
   "cell_type": "code",
   "execution_count": 10,
   "id": "da6b7ab6",
   "metadata": {},
   "outputs": [],
   "source": [
    "file = open(\"love.txt\", \"r\", encoding=\"utf8\")\n",
    "lines = file.readlines()[:time_table_length]\n",
    "file.close()\n",
    "emojies = \"❤️,💕,😍,😘,🥰,😻,💞,💗,💖,💓,💝,💑,👩‍❤️‍👨,👨‍❤️‍👨,👩‍❤️‍👩,💌,🌹,🌺,🌼\".split(\",\")"
   ]
  },
  {
   "cell_type": "code",
   "execution_count": 12,
   "id": "63928541",
   "metadata": {},
   "outputs": [
    {
     "name": "stdout",
     "output_type": "stream",
     "text": [
      "تو عشقم و برگ های زندگی من هستی. 2110\n",
      "با تو هر لحظه زندگیم پر از شیرینی است. 2115\n",
      "تو نوری در زندگیم هستی که همیشه من را روشن نگه می دارد. 2120\n",
      "عشق تو مثل یک باغ زیباست که در آن همیشه بهار است. 2125\n",
      "تو آرامش من هستی، در آغوش تو همیشه ایمنی را میابم. 2130\n",
      "بدون تو، دنیای من تاریک و بی روح است. 2135\n",
      "تو آن شخصی هستی که به من یاد می دهی که چگونه عشق کنم. 2140\n",
      "عشق تو مثل یک ملودی زیباست که قلبم را به لرزه در می آورد. 2145\n",
      "در کنار تو همیشه می دانم که زندگی ام را پیدا کرده ام. 2150\n",
      "تو دنیای من هستی و من همیشه تمام وجودم را به تو اختصاص می دهم. 2155\n",
      "عشق تو آرام ترین آتشی است که هر روز قلبم را گرم نگه میدارد. 2210\n",
      "تو بهترین هدیه ای هستی که زندگی به من داده است. 2215\n",
      "در هر نگاه به تو عاشق تر از قبل می شوم. 2220\n",
      "عشق تو مانند یک قصه است که همیشه دلم را می سراید. 2225\n",
      "با تو همه چیز به رنگ و بوی زندگی می افزاید. 2230\n",
      "قلب من با لبخند تو به تپش خودش ادامه می دهد. 2235\n",
      "عشق تو مثل بارانی است که خشکسالی دلم را رفع می کند. 2240\n",
      "با تو بهترین و نازک ترین احساسات را تجربه می کنم. 2245\n",
      "تو آرزوی هر شب و رویاهای هر روزم هستی. 2250\n",
      "تو بخشی از من شده ای که هیچ وقت نمی توانم بدونش زندگی کنم. 2255\n",
      "عشق تو مثل برفی است که سردی دلم را دور می کند. 2310\n",
      "همیشه دلم برای تو تپیده و به تو متصل است. 2315\n",
      "با تو زندگی مانند یک ماجراجویی بی پایان است. 2320\n",
      "تو مهربانی، صمیمیت و امید زندگی من هستی. 2325\n",
      "تو هدیه ای هستی که هر روز از زندگی ام می پذیرم. 2330\n",
      "عشق تو مانند باغی است که همیشه با گل های عشق می شکفد. 2335\n",
      "همیشه می خواهم با تو دست در دست زندگی کنم. 2340\n",
      "تو تنها کسی هستی که می تواند قلبم را به لرزه درآورد. 2345\n",
      "با تو آرامش پیدا می کنم و همه درد و رنج ها را فراموش می کنم. 2350\n",
      "تو قسمتی از من هستی که هرگز نمی توانم از دست بدهم. 2355\n"
     ]
    }
   ],
   "source": [
    "po.moveTo(582, 1134)\n",
    "po.click()\n",
    "sleep(0.01)\n",
    "for time, word in zip(time_table, lines):\n",
    "    print(word.strip(), time)\n",
    "    co.copy(word.strip() + \" \" + random.choice(emojies))\n",
    "    po.hotkey('ctrl', 'v')\n",
    "    sleep(0.01)\n",
    "    po.press(\"enter\")\n",
    "    for i in range(5):\n",
    "        po.press(\"backspace\")\n",
    "        sleep(0.01)\n",
    "    po.write(time, interval=0.05)\n",
    "    sleep(0.01)\n",
    "    po.press(\"enter\")\n",
    "    sleep(0.1)"
   ]
  },
  {
   "cell_type": "code",
   "execution_count": null,
   "id": "89d85299",
   "metadata": {},
   "outputs": [],
   "source": []
  }
 ],
 "metadata": {
  "kernelspec": {
   "display_name": "Python 3 (ipykernel)",
   "language": "python",
   "name": "python3"
  },
  "language_info": {
   "codemirror_mode": {
    "name": "ipython",
    "version": 3
   },
   "file_extension": ".py",
   "mimetype": "text/x-python",
   "name": "python",
   "nbconvert_exporter": "python",
   "pygments_lexer": "ipython3",
   "version": "3.10.7"
  }
 },
 "nbformat": 4,
 "nbformat_minor": 5
}
